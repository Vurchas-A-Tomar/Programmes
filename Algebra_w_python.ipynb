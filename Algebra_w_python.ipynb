{
  "cells": [
    {
      "cell_type": "markdown",
      "metadata": {
        "id": "view-in-github",
        "colab_type": "text"
      },
      "source": [
        "<a href=\"https://colab.research.google.com/github/Vurchas-A-Tomar/Programmes/blob/master/Algebra_w_python.ipynb\" target=\"_parent\"><img src=\"https://colab.research.google.com/assets/colab-badge.svg\" alt=\"Open In Colab\"/></a>"
      ]
    },
    {
      "cell_type": "markdown",
      "metadata": {
        "id": "OIN_g6H8hqj5"
      },
      "source": [
        "# Proportions ➗\n",
        "\n"
      ]
    },
    {
      "cell_type": "markdown",
      "metadata": {
        "id": "YVrwJePQBRlf"
      },
      "source": [
        "$\\frac{x_1}{y_1}$ = $\\frac{x_2}{y_2}$ => $x_1$ = $\\frac{x_2y_1}{y_2}$"
      ]
    },
    {
      "cell_type": "code",
      "execution_count": null,
      "metadata": {
        "id": "ZksPnae5QtLD"
      },
      "outputs": [],
      "source": [
        "x1 = 1\n",
        "y1 = 2\n",
        "x2 = 0\n",
        "y2 = 16\n",
        "\n",
        "if x2 == 0:\n",
        "  answer = x1 * y2 / y1\n",
        "  print(f'{x2} = {answer}')\n",
        "\n",
        "if y2 == 0:\n",
        "  answer = x2 * y1 / x1\n",
        "  print(f'{y2} = {answer}')"
      ]
    },
    {
      "cell_type": "markdown",
      "metadata": {
        "id": "4lDA6AbP_9vQ"
      },
      "source": [
        "**Repeating Decimals**\n",
        "\n",
        "$x = 0.\\bar9$\\\n",
        "$10x = 9.\\bar9$\\\n",
        "$9x = 9$\\\n",
        "$x = \\frac{9}{9} = 1$"
      ]
    },
    {
      "cell_type": "markdown",
      "metadata": {
        "id": "mc-PEJteD8HA"
      },
      "source": [
        "# Solve for x ❓"
      ]
    },
    {
      "cell_type": "markdown",
      "metadata": {
        "id": "BWGkWi3eH8HR"
      },
      "source": [
        "**Subtraction**\\\n",
        "$x + 4 = 6 ≫ x = 6 - 4 ≫ x = 2$\n",
        "\n",
        "**Addition**\\\n",
        "$x - 2 = 18 ≫ x = 18 + 2 ≫ x = 20$\n",
        "\n",
        "**Multiplication**\\\n",
        "$\\frac{x}{4} = 2 ≫ 4 × \\frac{x}{4} = 2 × 4 ≫ x = 8$\n",
        "\n",
        "**Division**\\\n",
        "$4x = 16 ≫ \\frac{4x}{4} = \\frac{16}{4} ≫ x = 4$"
      ]
    },
    {
      "cell_type": "code",
      "execution_count": null,
      "metadata": {
        "id": "E0GasEG6FSge"
      },
      "outputs": [],
      "source": [
        "# 1 Solution\n",
        "import sympy\n",
        "from sympy import symbols\n",
        "from sympy.solvers import solve\n",
        "\n",
        "x = symbols('x')\n",
        "\n",
        "eq = 2 * x + 1\n",
        "\n",
        "# Gives finite set\n",
        "print(f'x = {solve(eq,x)}')"
      ]
    },
    {
      "cell_type": "code",
      "execution_count": null,
      "metadata": {
        "id": "tA19CaWiHT3z"
      },
      "outputs": [],
      "source": [
        "# 2 Solution\n",
        "import sympy\n",
        "from sympy import symbols\n",
        "from sympy.solvers import solve\n",
        "\n",
        "x = symbols('x')\n",
        "\n",
        "eq = (x + 1) * (x - 2) * (x + 16)\n",
        "\n",
        "solutions = solve(eq,x)\n",
        "for s in solutions:\n",
        "  print(f'x = {s}')"
      ]
    },
    {
      "cell_type": "code",
      "execution_count": null,
      "metadata": {
        "colab": {
          "background_save": true
        },
        "id": "jjUfF453MtWB"
      },
      "outputs": [],
      "source": [
        "from sympy import *\n",
        "\n",
        "var('x y')\n",
        "\n",
        "first = 2 * x + 10\n",
        "\n",
        "eq1 = Eq(first,y)\n",
        "\n",
        "sol1 = solve(eq1,x)\n",
        "\n",
        "print(f'x = {sol1[0]}')"
      ]
    },
    {
      "cell_type": "code",
      "execution_count": null,
      "metadata": {
        "id": "J8dH8adhNo7w"
      },
      "outputs": [],
      "source": [
        "# Factorisation\n",
        "\n",
        "import sympy\n",
        "from sympy import symbols\n",
        "\n",
        "var('x y')\n",
        "\n",
        "eq = x**2 - 5*x + 6\n",
        "\n",
        "sympy.factor(eq)"
      ]
    },
    {
      "cell_type": "code",
      "source": [
        "def frac(inp_str):\n",
        "  if '/' in inp_str:\n",
        "    nd = inp_str.split('/')\n",
        "    n = float(nd[0])\n",
        "    d = float(nd[1])\n",
        "    ans = n / d\n",
        "    return ans\n",
        "  else:\n",
        "    ans = float(inp_str)\n",
        "    return ans"
      ],
      "metadata": {
        "id": "GHOBKfMj85ZX"
      },
      "execution_count": null,
      "outputs": []
    }
  ],
  "metadata": {
    "colab": {
      "provenance": [],
      "authorship_tag": "ABX9TyMLKiWRdCwBaFMajTc20suN",
      "include_colab_link": true
    },
    "kernelspec": {
      "display_name": "Python 3",
      "name": "python3"
    },
    "language_info": {
      "name": "python"
    }
  },
  "nbformat": 4,
  "nbformat_minor": 0
}